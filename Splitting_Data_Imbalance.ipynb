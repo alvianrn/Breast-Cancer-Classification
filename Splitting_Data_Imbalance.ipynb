{
  "nbformat": 4,
  "nbformat_minor": 0,
  "metadata": {
    "colab": {
      "provenance": [],
      "authorship_tag": "ABX9TyPAcRi/VVkGPVTcLU20+Jww"
    },
    "kernelspec": {
      "name": "python3",
      "display_name": "Python 3"
    },
    "language_info": {
      "name": "python"
    }
  },
  "cells": [
    {
      "cell_type": "markdown",
      "source": [
        "# Import Library"
      ],
      "metadata": {
        "id": "PkKKf_7vJiPH"
      }
    },
    {
      "cell_type": "markdown",
      "source": [
        "Menginstal library dan modul yang akan digunakan"
      ],
      "metadata": {
        "id": "PHFJ9ukoSXda"
      }
    },
    {
      "cell_type": "code",
      "execution_count": 1,
      "metadata": {
        "id": "X7IMdW7CFPBO"
      },
      "outputs": [],
      "source": [
        "!pip install -q split-folders"
      ]
    },
    {
      "cell_type": "markdown",
      "source": [
        "Menghubungkan Google Drive dengan Google Colab"
      ],
      "metadata": {
        "id": "Kf5S5Fo9SaDa"
      }
    },
    {
      "cell_type": "code",
      "source": [
        "from google.colab import drive\n",
        "drive.mount('/content/drive')"
      ],
      "metadata": {
        "colab": {
          "base_uri": "https://localhost:8080/"
        },
        "id": "l9uxPscqFdqW",
        "outputId": "2825c096-939f-402a-f4be-e14c784053d2"
      },
      "execution_count": 2,
      "outputs": [
        {
          "output_type": "stream",
          "name": "stdout",
          "text": [
            "Mounted at /content/drive\n"
          ]
        }
      ]
    },
    {
      "cell_type": "markdown",
      "source": [
        "# Import Data from Drive"
      ],
      "metadata": {
        "id": "omiUFRG3Jkhe"
      }
    },
    {
      "cell_type": "markdown",
      "source": [
        "Mengakses dataset dari Google Drive"
      ],
      "metadata": {
        "id": "bmOi7qkpSd5P"
      }
    },
    {
      "cell_type": "code",
      "source": [
        "dataset = '/content/drive/MyDrive/Breast Cancer Dataset'"
      ],
      "metadata": {
        "id": "9e8Ig5gbFfzk"
      },
      "execution_count": 3,
      "outputs": []
    },
    {
      "cell_type": "markdown",
      "source": [
        "Melakukan pembagian data dengan ratio 80% (train) dan 20% (test)"
      ],
      "metadata": {
        "id": "WjdhmXr-SjKg"
      }
    },
    {
      "cell_type": "code",
      "source": [
        "#impor package split-folders\n",
        "import splitfolders\n",
        "\n",
        "#Membagi data\n",
        "splitfolders.ratio(dataset,\n",
        "                   output='/content/drive/MyDrive/Breast Cancer Dataset/data',\n",
        "                   seed=1337,\n",
        "                   ratio=(.9, .1),\n",
        "                   group_prefix=None, move=False)"
      ],
      "metadata": {
        "colab": {
          "base_uri": "https://localhost:8080/"
        },
        "id": "FdALAZ0dFiVi",
        "outputId": "95d7a624-bc09-48f2-9c6b-eb5c98f21395"
      },
      "execution_count": 4,
      "outputs": [
        {
          "output_type": "stream",
          "name": "stderr",
          "text": [
            "Copying files: 767 files [00:31, 24.53 files/s]\n"
          ]
        }
      ]
    },
    {
      "cell_type": "markdown",
      "source": [
        "# Split Data"
      ],
      "metadata": {
        "id": "E_u0lwGbJn3j"
      }
    },
    {
      "cell_type": "code",
      "source": [
        "import os\n",
        "\n",
        "base_dir = '/content/drive/MyDrive/Breast Cancer Dataset/data'\n",
        "\n",
        "train_dir = os.path.join(base_dir, 'train')\n",
        "os.chdir(base_dir)\n",
        "os.rename(\"val\",\"test\")\n",
        "test_dir = os.path.join(base_dir, 'test')\n",
        "\n",
        "train_benign = '/content/drive/MyDrive/Breast Cancer Dataset/data/train/benign'\n",
        "train_malignant = '/content/drive/MyDrive/Breast Cancer Dataset/data/train/malignant'\n",
        "train_normal = '/content/drive/MyDrive/Breast Cancer Dataset/data/train/normal'\n",
        "\n",
        "test_benign = '/content/drive/MyDrive/Breast Cancer Dataset/data/test/benign'\n",
        "test_malignant = '/content/drive/MyDrive/Breast Cancer Dataset/data/test/malignant'\n",
        "test_normal = '/content/drive/MyDrive/Breast Cancer Dataset/data/test/normal'\n",
        "\n",
        "print('total citra train:', len(os.listdir(train_benign))+\n",
        "                            len(os.listdir(train_malignant))+\n",
        "                            len(os.listdir(train_normal))\n",
        "                            )\n",
        "print('total citra test:', len(os.listdir(test_benign))+\n",
        "                           len(os.listdir(test_malignant))+\n",
        "                           len(os.listdir(test_normal)))"
      ],
      "metadata": {
        "colab": {
          "base_uri": "https://localhost:8080/"
        },
        "id": "YNjnV96mFlPv",
        "outputId": "05f88888-6c76-41d4-eaaf-ba670400b767"
      },
      "execution_count": 5,
      "outputs": [
        {
          "output_type": "stream",
          "name": "stdout",
          "text": [
            "total citra train: 689\n",
            "total citra test: 78\n"
          ]
        }
      ]
    },
    {
      "cell_type": "markdown",
      "source": [
        "Hasil pembagian data citra yang digunakan untuk train sebanyak 689 citra dan citra yang digunakan untuk test sebanyak 78 citra. Data ini digunakan untuk analisis data Imbalance"
      ],
      "metadata": {
        "id": "TxuPQ97wSreR"
      }
    }
  ]
}