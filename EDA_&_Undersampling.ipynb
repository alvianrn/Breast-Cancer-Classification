{
  "nbformat": 4,
  "nbformat_minor": 0,
  "metadata": {
    "colab": {
      "provenance": [],
      "gpuType": "T4",
      "authorship_tag": "ABX9TyP4N+bkAgSbIOcDCZssJCZl",
      "include_colab_link": true
    },
    "kernelspec": {
      "name": "python3",
      "display_name": "Python 3"
    },
    "language_info": {
      "name": "python"
    },
    "accelerator": "GPU"
  },
  "cells": [
    {
      "cell_type": "markdown",
      "metadata": {
        "id": "view-in-github",
        "colab_type": "text"
      },
      "source": [
        "<a href=\"https://colab.research.google.com/github/alvianrn/Breast-Cancer-Identification/blob/main/EDA_%26_Undersampling.ipynb\" target=\"_parent\"><img src=\"https://colab.research.google.com/assets/colab-badge.svg\" alt=\"Open In Colab\"/></a>"
      ]
    },
    {
      "cell_type": "markdown",
      "source": [
        "# Import Library"
      ],
      "metadata": {
        "id": "4R-DZRGZr18b"
      }
    },
    {
      "cell_type": "code",
      "execution_count": 26,
      "metadata": {
        "id": "I9wYSreHrqJY"
      },
      "outputs": [],
      "source": [
        "!pip install -q matplotlib=='3.5.2'"
      ]
    },
    {
      "cell_type": "code",
      "source": [
        "import os\n",
        "import matplotlib.pyplot as plt\n",
        "import matplotlib.image as mpimg\n",
        "import numpy as np\n",
        "import seaborn as sns\n",
        "import pandas as pd\n",
        "import matplotlib\n",
        "from google.colab import drive"
      ],
      "metadata": {
        "id": "ng1IvHOzsA7A"
      },
      "execution_count": 27,
      "outputs": []
    },
    {
      "cell_type": "code",
      "source": [
        "print('matplotlib: {}'.format(matplotlib.__version__))"
      ],
      "metadata": {
        "colab": {
          "base_uri": "https://localhost:8080/"
        },
        "id": "pQ13pof1sLrW",
        "outputId": "1540e317-dfa5-484b-cd5d-1a639f501b9c"
      },
      "execution_count": 28,
      "outputs": [
        {
          "output_type": "stream",
          "name": "stdout",
          "text": [
            "matplotlib: 3.7.1\n"
          ]
        }
      ]
    },
    {
      "cell_type": "markdown",
      "source": [
        "# Import Data from Drive"
      ],
      "metadata": {
        "id": "44HYCbEKsHqB"
      }
    },
    {
      "cell_type": "code",
      "source": [
        "drive.mount('/content/drive')"
      ],
      "metadata": {
        "colab": {
          "base_uri": "https://localhost:8080/"
        },
        "id": "cPwvVgdnsMdD",
        "outputId": "1f9c485b-9eb6-42d1-cccc-3e36898e65cc"
      },
      "execution_count": 31,
      "outputs": [
        {
          "output_type": "stream",
          "name": "stdout",
          "text": [
            "Drive already mounted at /content/drive; to attempt to forcibly remount, call drive.mount(\"/content/drive\", force_remount=True).\n"
          ]
        }
      ]
    },
    {
      "cell_type": "code",
      "source": [
        "dataset = '/content/drive/MyDrive/Breast Cancer Dataset'\n",
        "os.listdir(dataset)"
      ],
      "metadata": {
        "colab": {
          "base_uri": "https://localhost:8080/"
        },
        "id": "2pL33WPIsZEX",
        "outputId": "a3394b69-d942-4992-dc75-769374c384a0"
      },
      "execution_count": 32,
      "outputs": [
        {
          "output_type": "execute_result",
          "data": {
            "text/plain": [
              "['malignant', 'normal', 'benign']"
            ]
          },
          "metadata": {},
          "execution_count": 32
        }
      ]
    },
    {
      "cell_type": "markdown",
      "source": [
        "## Eksplorasi Data"
      ],
      "metadata": {
        "id": "WP0jZM-3snuZ"
      }
    },
    {
      "cell_type": "code",
      "source": [
        "list = []\n",
        "totalFile = 0\n",
        "totalDir = 0\n",
        "for base, dirs, files in os.walk(dataset):\n",
        "    list.append(len(files))\n",
        "    for directories in dirs:\n",
        "        totalDir += 1\n",
        "    for Files in files:\n",
        "        totalFile += 1\n",
        "\n",
        "print('Jumlah direktori data :', totalDir)\n",
        "print('Jumlah total data :',totalFile)"
      ],
      "metadata": {
        "colab": {
          "base_uri": "https://localhost:8080/"
        },
        "id": "NzIWGoo8sh7T",
        "outputId": "878981b6-e2ab-4af8-d1bb-50e8b5fddc22"
      },
      "execution_count": 33,
      "outputs": [
        {
          "output_type": "stream",
          "name": "stdout",
          "text": [
            "Jumlah direktori data : 3\n",
            "Jumlah total data : 0\n"
          ]
        }
      ]
    },
    {
      "cell_type": "code",
      "source": [
        "index = np.arange(1,4,1)\n",
        "d = {'Kelas': os.listdir(dataset), 'Total_Gambar': np.delete(list, [0])}\n",
        "data1 = pd.DataFrame(data=d, index=index)\n",
        "data1"
      ],
      "metadata": {
        "colab": {
          "base_uri": "https://localhost:8080/",
          "height": 143
        },
        "id": "ehN4-EVUspyb",
        "outputId": "00b970c8-0012-4a46-92b9-a0626c54e24d"
      },
      "execution_count": 34,
      "outputs": [
        {
          "output_type": "execute_result",
          "data": {
            "text/plain": [
              "       Kelas  Total_Gambar\n",
              "1  malignant             0\n",
              "2     normal             0\n",
              "3     benign             0"
            ],
            "text/html": [
              "\n",
              "  <div id=\"df-b389a81e-264e-414e-9f7f-d8bc67315a83\" class=\"colab-df-container\">\n",
              "    <div>\n",
              "<style scoped>\n",
              "    .dataframe tbody tr th:only-of-type {\n",
              "        vertical-align: middle;\n",
              "    }\n",
              "\n",
              "    .dataframe tbody tr th {\n",
              "        vertical-align: top;\n",
              "    }\n",
              "\n",
              "    .dataframe thead th {\n",
              "        text-align: right;\n",
              "    }\n",
              "</style>\n",
              "<table border=\"1\" class=\"dataframe\">\n",
              "  <thead>\n",
              "    <tr style=\"text-align: right;\">\n",
              "      <th></th>\n",
              "      <th>Kelas</th>\n",
              "      <th>Total_Gambar</th>\n",
              "    </tr>\n",
              "  </thead>\n",
              "  <tbody>\n",
              "    <tr>\n",
              "      <th>1</th>\n",
              "      <td>malignant</td>\n",
              "      <td>0</td>\n",
              "    </tr>\n",
              "    <tr>\n",
              "      <th>2</th>\n",
              "      <td>normal</td>\n",
              "      <td>0</td>\n",
              "    </tr>\n",
              "    <tr>\n",
              "      <th>3</th>\n",
              "      <td>benign</td>\n",
              "      <td>0</td>\n",
              "    </tr>\n",
              "  </tbody>\n",
              "</table>\n",
              "</div>\n",
              "    <div class=\"colab-df-buttons\">\n",
              "\n",
              "  <div class=\"colab-df-container\">\n",
              "    <button class=\"colab-df-convert\" onclick=\"convertToInteractive('df-b389a81e-264e-414e-9f7f-d8bc67315a83')\"\n",
              "            title=\"Convert this dataframe to an interactive table.\"\n",
              "            style=\"display:none;\">\n",
              "\n",
              "  <svg xmlns=\"http://www.w3.org/2000/svg\" height=\"24px\" viewBox=\"0 -960 960 960\">\n",
              "    <path d=\"M120-120v-720h720v720H120Zm60-500h600v-160H180v160Zm220 220h160v-160H400v160Zm0 220h160v-160H400v160ZM180-400h160v-160H180v160Zm440 0h160v-160H620v160ZM180-180h160v-160H180v160Zm440 0h160v-160H620v160Z\"/>\n",
              "  </svg>\n",
              "    </button>\n",
              "\n",
              "  <style>\n",
              "    .colab-df-container {\n",
              "      display:flex;\n",
              "      gap: 12px;\n",
              "    }\n",
              "\n",
              "    .colab-df-convert {\n",
              "      background-color: #E8F0FE;\n",
              "      border: none;\n",
              "      border-radius: 50%;\n",
              "      cursor: pointer;\n",
              "      display: none;\n",
              "      fill: #1967D2;\n",
              "      height: 32px;\n",
              "      padding: 0 0 0 0;\n",
              "      width: 32px;\n",
              "    }\n",
              "\n",
              "    .colab-df-convert:hover {\n",
              "      background-color: #E2EBFA;\n",
              "      box-shadow: 0px 1px 2px rgba(60, 64, 67, 0.3), 0px 1px 3px 1px rgba(60, 64, 67, 0.15);\n",
              "      fill: #174EA6;\n",
              "    }\n",
              "\n",
              "    .colab-df-buttons div {\n",
              "      margin-bottom: 4px;\n",
              "    }\n",
              "\n",
              "    [theme=dark] .colab-df-convert {\n",
              "      background-color: #3B4455;\n",
              "      fill: #D2E3FC;\n",
              "    }\n",
              "\n",
              "    [theme=dark] .colab-df-convert:hover {\n",
              "      background-color: #434B5C;\n",
              "      box-shadow: 0px 1px 3px 1px rgba(0, 0, 0, 0.15);\n",
              "      filter: drop-shadow(0px 1px 2px rgba(0, 0, 0, 0.3));\n",
              "      fill: #FFFFFF;\n",
              "    }\n",
              "  </style>\n",
              "\n",
              "    <script>\n",
              "      const buttonEl =\n",
              "        document.querySelector('#df-b389a81e-264e-414e-9f7f-d8bc67315a83 button.colab-df-convert');\n",
              "      buttonEl.style.display =\n",
              "        google.colab.kernel.accessAllowed ? 'block' : 'none';\n",
              "\n",
              "      async function convertToInteractive(key) {\n",
              "        const element = document.querySelector('#df-b389a81e-264e-414e-9f7f-d8bc67315a83');\n",
              "        const dataTable =\n",
              "          await google.colab.kernel.invokeFunction('convertToInteractive',\n",
              "                                                    [key], {});\n",
              "        if (!dataTable) return;\n",
              "\n",
              "        const docLinkHtml = 'Like what you see? Visit the ' +\n",
              "          '<a target=\"_blank\" href=https://colab.research.google.com/notebooks/data_table.ipynb>data table notebook</a>'\n",
              "          + ' to learn more about interactive tables.';\n",
              "        element.innerHTML = '';\n",
              "        dataTable['output_type'] = 'display_data';\n",
              "        await google.colab.output.renderOutput(dataTable, element);\n",
              "        const docLink = document.createElement('div');\n",
              "        docLink.innerHTML = docLinkHtml;\n",
              "        element.appendChild(docLink);\n",
              "      }\n",
              "    </script>\n",
              "  </div>\n",
              "\n",
              "\n",
              "<div id=\"df-b2550dc5-3301-4c1b-bfee-43f40c37a7a8\">\n",
              "  <button class=\"colab-df-quickchart\" onclick=\"quickchart('df-b2550dc5-3301-4c1b-bfee-43f40c37a7a8')\"\n",
              "            title=\"Suggest charts\"\n",
              "            style=\"display:none;\">\n",
              "\n",
              "<svg xmlns=\"http://www.w3.org/2000/svg\" height=\"24px\"viewBox=\"0 0 24 24\"\n",
              "     width=\"24px\">\n",
              "    <g>\n",
              "        <path d=\"M19 3H5c-1.1 0-2 .9-2 2v14c0 1.1.9 2 2 2h14c1.1 0 2-.9 2-2V5c0-1.1-.9-2-2-2zM9 17H7v-7h2v7zm4 0h-2V7h2v10zm4 0h-2v-4h2v4z\"/>\n",
              "    </g>\n",
              "</svg>\n",
              "  </button>\n",
              "\n",
              "<style>\n",
              "  .colab-df-quickchart {\n",
              "      --bg-color: #E8F0FE;\n",
              "      --fill-color: #1967D2;\n",
              "      --hover-bg-color: #E2EBFA;\n",
              "      --hover-fill-color: #174EA6;\n",
              "      --disabled-fill-color: #AAA;\n",
              "      --disabled-bg-color: #DDD;\n",
              "  }\n",
              "\n",
              "  [theme=dark] .colab-df-quickchart {\n",
              "      --bg-color: #3B4455;\n",
              "      --fill-color: #D2E3FC;\n",
              "      --hover-bg-color: #434B5C;\n",
              "      --hover-fill-color: #FFFFFF;\n",
              "      --disabled-bg-color: #3B4455;\n",
              "      --disabled-fill-color: #666;\n",
              "  }\n",
              "\n",
              "  .colab-df-quickchart {\n",
              "    background-color: var(--bg-color);\n",
              "    border: none;\n",
              "    border-radius: 50%;\n",
              "    cursor: pointer;\n",
              "    display: none;\n",
              "    fill: var(--fill-color);\n",
              "    height: 32px;\n",
              "    padding: 0;\n",
              "    width: 32px;\n",
              "  }\n",
              "\n",
              "  .colab-df-quickchart:hover {\n",
              "    background-color: var(--hover-bg-color);\n",
              "    box-shadow: 0 1px 2px rgba(60, 64, 67, 0.3), 0 1px 3px 1px rgba(60, 64, 67, 0.15);\n",
              "    fill: var(--button-hover-fill-color);\n",
              "  }\n",
              "\n",
              "  .colab-df-quickchart-complete:disabled,\n",
              "  .colab-df-quickchart-complete:disabled:hover {\n",
              "    background-color: var(--disabled-bg-color);\n",
              "    fill: var(--disabled-fill-color);\n",
              "    box-shadow: none;\n",
              "  }\n",
              "\n",
              "  .colab-df-spinner {\n",
              "    border: 2px solid var(--fill-color);\n",
              "    border-color: transparent;\n",
              "    border-bottom-color: var(--fill-color);\n",
              "    animation:\n",
              "      spin 1s steps(1) infinite;\n",
              "  }\n",
              "\n",
              "  @keyframes spin {\n",
              "    0% {\n",
              "      border-color: transparent;\n",
              "      border-bottom-color: var(--fill-color);\n",
              "      border-left-color: var(--fill-color);\n",
              "    }\n",
              "    20% {\n",
              "      border-color: transparent;\n",
              "      border-left-color: var(--fill-color);\n",
              "      border-top-color: var(--fill-color);\n",
              "    }\n",
              "    30% {\n",
              "      border-color: transparent;\n",
              "      border-left-color: var(--fill-color);\n",
              "      border-top-color: var(--fill-color);\n",
              "      border-right-color: var(--fill-color);\n",
              "    }\n",
              "    40% {\n",
              "      border-color: transparent;\n",
              "      border-right-color: var(--fill-color);\n",
              "      border-top-color: var(--fill-color);\n",
              "    }\n",
              "    60% {\n",
              "      border-color: transparent;\n",
              "      border-right-color: var(--fill-color);\n",
              "    }\n",
              "    80% {\n",
              "      border-color: transparent;\n",
              "      border-right-color: var(--fill-color);\n",
              "      border-bottom-color: var(--fill-color);\n",
              "    }\n",
              "    90% {\n",
              "      border-color: transparent;\n",
              "      border-bottom-color: var(--fill-color);\n",
              "    }\n",
              "  }\n",
              "</style>\n",
              "\n",
              "  <script>\n",
              "    async function quickchart(key) {\n",
              "      const quickchartButtonEl =\n",
              "        document.querySelector('#' + key + ' button');\n",
              "      quickchartButtonEl.disabled = true;  // To prevent multiple clicks.\n",
              "      quickchartButtonEl.classList.add('colab-df-spinner');\n",
              "      try {\n",
              "        const charts = await google.colab.kernel.invokeFunction(\n",
              "            'suggestCharts', [key], {});\n",
              "      } catch (error) {\n",
              "        console.error('Error during call to suggestCharts:', error);\n",
              "      }\n",
              "      quickchartButtonEl.classList.remove('colab-df-spinner');\n",
              "      quickchartButtonEl.classList.add('colab-df-quickchart-complete');\n",
              "    }\n",
              "    (() => {\n",
              "      let quickchartButtonEl =\n",
              "        document.querySelector('#df-b2550dc5-3301-4c1b-bfee-43f40c37a7a8 button');\n",
              "      quickchartButtonEl.style.display =\n",
              "        google.colab.kernel.accessAllowed ? 'block' : 'none';\n",
              "    })();\n",
              "  </script>\n",
              "</div>\n",
              "\n",
              "  <div id=\"id_eae89f19-b4af-423a-a1d3-4b48cc149f31\">\n",
              "    <style>\n",
              "      .colab-df-generate {\n",
              "        background-color: #E8F0FE;\n",
              "        border: none;\n",
              "        border-radius: 50%;\n",
              "        cursor: pointer;\n",
              "        display: none;\n",
              "        fill: #1967D2;\n",
              "        height: 32px;\n",
              "        padding: 0 0 0 0;\n",
              "        width: 32px;\n",
              "      }\n",
              "\n",
              "      .colab-df-generate:hover {\n",
              "        background-color: #E2EBFA;\n",
              "        box-shadow: 0px 1px 2px rgba(60, 64, 67, 0.3), 0px 1px 3px 1px rgba(60, 64, 67, 0.15);\n",
              "        fill: #174EA6;\n",
              "      }\n",
              "\n",
              "      [theme=dark] .colab-df-generate {\n",
              "        background-color: #3B4455;\n",
              "        fill: #D2E3FC;\n",
              "      }\n",
              "\n",
              "      [theme=dark] .colab-df-generate:hover {\n",
              "        background-color: #434B5C;\n",
              "        box-shadow: 0px 1px 3px 1px rgba(0, 0, 0, 0.15);\n",
              "        filter: drop-shadow(0px 1px 2px rgba(0, 0, 0, 0.3));\n",
              "        fill: #FFFFFF;\n",
              "      }\n",
              "    </style>\n",
              "    <button class=\"colab-df-generate\" onclick=\"generateWithVariable('data1')\"\n",
              "            title=\"Generate code using this dataframe.\"\n",
              "            style=\"display:none;\">\n",
              "\n",
              "  <svg xmlns=\"http://www.w3.org/2000/svg\" height=\"24px\"viewBox=\"0 0 24 24\"\n",
              "       width=\"24px\">\n",
              "    <path d=\"M7,19H8.4L18.45,9,17,7.55,7,17.6ZM5,21V16.75L18.45,3.32a2,2,0,0,1,2.83,0l1.4,1.43a1.91,1.91,0,0,1,.58,1.4,1.91,1.91,0,0,1-.58,1.4L9.25,21ZM18.45,9,17,7.55Zm-12,3A5.31,5.31,0,0,0,4.9,8.1,5.31,5.31,0,0,0,1,6.5,5.31,5.31,0,0,0,4.9,4.9,5.31,5.31,0,0,0,6.5,1,5.31,5.31,0,0,0,8.1,4.9,5.31,5.31,0,0,0,12,6.5,5.46,5.46,0,0,0,6.5,12Z\"/>\n",
              "  </svg>\n",
              "    </button>\n",
              "    <script>\n",
              "      (() => {\n",
              "      const buttonEl =\n",
              "        document.querySelector('#id_eae89f19-b4af-423a-a1d3-4b48cc149f31 button.colab-df-generate');\n",
              "      buttonEl.style.display =\n",
              "        google.colab.kernel.accessAllowed ? 'block' : 'none';\n",
              "\n",
              "      buttonEl.onclick = () => {\n",
              "        google.colab.notebook.generateWithVariable('data1');\n",
              "      }\n",
              "      })();\n",
              "    </script>\n",
              "  </div>\n",
              "\n",
              "    </div>\n",
              "  </div>\n"
            ],
            "application/vnd.google.colaboratory.intrinsic+json": {
              "type": "dataframe",
              "variable_name": "data1",
              "summary": "{\n  \"name\": \"data1\",\n  \"rows\": 3,\n  \"fields\": [\n    {\n      \"column\": \"Kelas\",\n      \"properties\": {\n        \"dtype\": \"string\",\n        \"num_unique_values\": 3,\n        \"samples\": [\n          \"malignant\",\n          \"normal\",\n          \"benign\"\n        ],\n        \"semantic_type\": \"\",\n        \"description\": \"\"\n      }\n    },\n    {\n      \"column\": \"Total_Gambar\",\n      \"properties\": {\n        \"dtype\": \"number\",\n        \"std\": 0,\n        \"min\": 0,\n        \"max\": 0,\n        \"num_unique_values\": 1,\n        \"samples\": [\n          0\n        ],\n        \"semantic_type\": \"\",\n        \"description\": \"\"\n      }\n    }\n  ]\n}"
            }
          },
          "metadata": {},
          "execution_count": 34
        }
      ]
    },
    {
      "cell_type": "code",
      "source": [
        "fig, ax = plt.subplots(figsize=(12,6))\n",
        "sns.barplot(data=data1,x='Kelas', y='Total_Gambar')\n",
        "plt.title('Distribusi Data per Kelas')\n",
        "ax.bar_label(ax.containers[0])\n",
        "ax.grid()\n",
        "plt.show()"
      ],
      "metadata": {
        "id": "j4K6Y0ZRsrz2"
      },
      "execution_count": null,
      "outputs": []
    },
    {
      "cell_type": "code",
      "source": [
        "from tqdm import tqdm\n",
        "\n",
        "filenames = []\n",
        "folder = []\n",
        "image = []\n",
        "for path, subdirs, files in tqdm(os.walk(dataset)):\n",
        "    for name in files:\n",
        "        filenames += [os.path.join(path, name)]\n",
        "        folder += [os.path.basename(os.path.dirname(filenames[-1]))]\n",
        "        image += [os.path.basename(filenames[-1])]\n",
        "\n",
        "data2 = pd.DataFrame({'Path Gambar':filenames, 'Kelas':folder, 'Nama Gambar':image})"
      ],
      "metadata": {
        "id": "UaiLSvvAstoF"
      },
      "execution_count": null,
      "outputs": []
    },
    {
      "cell_type": "code",
      "source": [
        "extension = []\n",
        "for i in range (sum(data1['Total_Gambar'])) :\n",
        "    strValue = data2['Nama Gambar'][i]\n",
        "    ch = '.'\n",
        "    newCh = strValue[strValue.find(ch):]\n",
        "    extension.append(newCh)"
      ],
      "metadata": {
        "id": "FF6ZISTlswB6"
      },
      "execution_count": null,
      "outputs": []
    },
    {
      "cell_type": "code",
      "source": [
        "data2['Ekstensi'] = extension\n",
        "data2"
      ],
      "metadata": {
        "id": "P9JtJoUdsxxH"
      },
      "execution_count": null,
      "outputs": []
    },
    {
      "cell_type": "code",
      "source": [
        "data2['Ekstensi'].unique()"
      ],
      "metadata": {
        "id": "xllmVkhNszrQ"
      },
      "execution_count": null,
      "outputs": []
    },
    {
      "cell_type": "code",
      "source": [
        "data2.groupby('Kelas').apply(lambda df: df.sample(5))['Kelas'].unique()"
      ],
      "metadata": {
        "id": "59lc6qgWs2Ms"
      },
      "execution_count": null,
      "outputs": []
    },
    {
      "cell_type": "code",
      "source": [
        "from PIL import Image\n",
        "\n",
        "total_img = 0\n",
        "usg_payudara = os.path.join(dataset)\n",
        "list_data_images = ['normal', 'malignant', 'benign']\n",
        "\n",
        "for data in list_data_images:\n",
        "  dir = os.path.join(usg_payudara, data)\n",
        "  total = len(os.listdir(dir))\n",
        "  print(data+' : ', total)\n",
        "  total_img = total_img + total\n",
        "\n",
        "  img_name = os.listdir(dir)\n",
        "  for i in range(5):\n",
        "    img_path = os.path.join(dir, img_name[i])\n",
        "    img = Image.open(img_path)\n",
        "    print('-',img.size)\n",
        "  print('...................')\n",
        "\n",
        "print('\\nTotal Images :', total_img)"
      ],
      "metadata": {
        "id": "aLg6QjTTs3yP"
      },
      "execution_count": null,
      "outputs": []
    },
    {
      "cell_type": "code",
      "source": [
        "unique_list = []\n",
        "unique = data2.groupby('Kelas').apply(lambda df: df.sample(5))['Kelas'].unique()\n",
        "fig = plt.figure(figsize=(15,10))\n",
        "plt.title('Breast Cancer Imaging', fontsize=20, y=1.03)\n",
        "plt.axis('off')\n",
        "columns = 6\n",
        "rows = 3\n",
        "img2show = data2.groupby('Kelas').apply(lambda df: df.sample(6))\n",
        "for i in range(1, columns*rows +1):\n",
        "    if i % columns == 1 :\n",
        "        unique_list.append(i)\n",
        "        fig.add_subplot(rows, columns, i)\n",
        "        plt.text(0.5,0.5, unique[len(unique_list)-1], ha='center', va='center', fontsize='x-large', fontweight='normal')\n",
        "        plt.axis('off')\n",
        "    else :\n",
        "        fig.add_subplot(rows, columns, i)\n",
        "        img = mpimg.imread(img2show.iloc[i-1]['Path Gambar'])\n",
        "        kelas = img2show.iloc[i-1]['Kelas']\n",
        "        imgplot = plt.imshow(img)\n",
        "        plt.axis('off')\n",
        "        plt.title(f'{kelas}')\n",
        "plt.show()\n"
      ],
      "metadata": {
        "id": "hYwvV_9Cs7mz"
      },
      "execution_count": null,
      "outputs": []
    },
    {
      "cell_type": "markdown",
      "source": [
        "# Undersampling Data"
      ],
      "metadata": {
        "id": "jqa3Q2A_th3m"
      }
    },
    {
      "cell_type": "code",
      "source": [
        "os.listdir(dataset)"
      ],
      "metadata": {
        "id": "e0j7JduhtwJV"
      },
      "execution_count": null,
      "outputs": []
    },
    {
      "cell_type": "code",
      "source": [
        "list = []\n",
        "totalFiles = 0\n",
        "totalDir = 0\n",
        "for base, dirs, files in os.walk(dataset):\n",
        "    list.append(len(files))\n",
        "    #print('Searching in : {} with total {} image'.format(base,len(files)))\n",
        "    for directories in dirs:\n",
        "        totalDir += 1\n",
        "    for Files in files:\n",
        "        totalFiles += 1"
      ],
      "metadata": {
        "id": "_4xdReVHtsiW"
      },
      "execution_count": null,
      "outputs": []
    },
    {
      "cell_type": "code",
      "source": [
        "d = {'Class': os.listdir(dataset), 'Total_image_in_class': np.delete(list, [0])}\n",
        "data1 = pd.DataFrame(data=d)\n",
        "data1"
      ],
      "metadata": {
        "id": "13ZU39BGtzMO"
      },
      "execution_count": null,
      "outputs": []
    },
    {
      "cell_type": "code",
      "source": [
        "fig, ax = plt.subplots(figsize=(12,6))\n",
        "sns.barplot(data=data1,x='Class', y='Total_image_in_class')\n",
        "plt.title('Class distribution')\n",
        "ax.bar_label(ax.containers[0])\n",
        "ax.grid()\n",
        "plt.show()"
      ],
      "metadata": {
        "id": "xLn8ldiJt08-"
      },
      "execution_count": null,
      "outputs": []
    },
    {
      "cell_type": "code",
      "source": [
        "normal_dir = os.path.join(dataset, 'normal')\n",
        "malignant_dir = os.path.join(dataset, 'malignant')\n",
        "benign_dir = os.path.join(dataset, 'benign')"
      ],
      "metadata": {
        "id": "Q_8sZDUVt2vN"
      },
      "execution_count": null,
      "outputs": []
    },
    {
      "cell_type": "code",
      "source": [
        "import random\n",
        "import os\n",
        "\n",
        "path = malignant_dir\n",
        "n = 30\n",
        "img_names = os.listdir(path)\n",
        "img_names = random.sample(img_names, n)\n",
        "for image in img_names:\n",
        "  f = os.path.join(path, image)\n",
        "  os.remove(f)"
      ],
      "metadata": {
        "id": "5aap1_gtt46h"
      },
      "execution_count": null,
      "outputs": []
    },
    {
      "cell_type": "code",
      "source": [
        "path = benign_dir\n",
        "n = 257\n",
        "img_names = os.listdir(path)\n",
        "img_names = random.sample(img_names, n)\n",
        "for image in img_names:\n",
        "  f = os.path.join(path, image)\n",
        "  os.remove(f)"
      ],
      "metadata": {
        "id": "B6lX4avQt6or"
      },
      "execution_count": null,
      "outputs": []
    },
    {
      "cell_type": "code",
      "source": [
        "list = []\n",
        "totalFiles = 0\n",
        "totalDir = 0\n",
        "for base, dirs, files in os.walk(dataset):\n",
        "    list.append(len(files))\n",
        "    #print('Searching in : {} with total {} image'.format(base,len(files)))\n",
        "    for directories in dirs:\n",
        "        totalDir += 1\n",
        "    for Files in files:\n",
        "        totalFiles += 1"
      ],
      "metadata": {
        "id": "oprnuZH3t8bx"
      },
      "execution_count": null,
      "outputs": []
    },
    {
      "cell_type": "code",
      "source": [
        "d = {'Class': os.listdir(dataset), 'Total_image_in_class': np.delete(list, [0])}\n",
        "data2 = pd.DataFrame(data=d)\n",
        "data2"
      ],
      "metadata": {
        "id": "nhfMJqNMt-Wb"
      },
      "execution_count": null,
      "outputs": []
    },
    {
      "cell_type": "code",
      "source": [
        "fig, ax = plt.subplots(figsize=(12,6))\n",
        "sns.barplot(data=data2,x='Class', y='Total_image_in_class')\n",
        "plt.title('Class distribution')\n",
        "ax.bar_label(ax.containers[0])\n",
        "ax.grid()\n",
        "plt.show()"
      ],
      "metadata": {
        "id": "Tm3UhB2FuBsQ"
      },
      "execution_count": null,
      "outputs": []
    }
  ]
}