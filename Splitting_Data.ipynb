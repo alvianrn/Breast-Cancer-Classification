{
  "nbformat": 4,
  "nbformat_minor": 0,
  "metadata": {
    "colab": {
      "provenance": [],
      "authorship_tag": "ABX9TyNBhVETzEqF8Y8ujcGPDhAX"
    },
    "kernelspec": {
      "name": "python3",
      "display_name": "Python 3"
    },
    "language_info": {
      "name": "python"
    }
  },
  "cells": [
    {
      "cell_type": "markdown",
      "source": [
        "# Import Library"
      ],
      "metadata": {
        "id": "PkKKf_7vJiPH"
      }
    },
    {
      "cell_type": "code",
      "execution_count": 12,
      "metadata": {
        "id": "X7IMdW7CFPBO"
      },
      "outputs": [],
      "source": [
        "!pip install -q split-folders"
      ]
    },
    {
      "cell_type": "code",
      "source": [
        "from google.colab import drive\n",
        "drive.mount('/content/drive')"
      ],
      "metadata": {
        "colab": {
          "base_uri": "https://localhost:8080/"
        },
        "id": "l9uxPscqFdqW",
        "outputId": "8105f7eb-32ae-4e06-a61a-f70a3805832c"
      },
      "execution_count": 13,
      "outputs": [
        {
          "output_type": "stream",
          "name": "stdout",
          "text": [
            "Drive already mounted at /content/drive; to attempt to forcibly remount, call drive.mount(\"/content/drive\", force_remount=True).\n"
          ]
        }
      ]
    },
    {
      "cell_type": "markdown",
      "source": [
        "# Import Data from Drive"
      ],
      "metadata": {
        "id": "omiUFRG3Jkhe"
      }
    },
    {
      "cell_type": "code",
      "source": [
        "dataset = '/content/drive/MyDrive/Breast Cancer Dataset'"
      ],
      "metadata": {
        "id": "9e8Ig5gbFfzk"
      },
      "execution_count": 14,
      "outputs": []
    },
    {
      "cell_type": "code",
      "source": [
        "#impor package split-folders\n",
        "import splitfolders\n",
        "\n",
        "#Membagi data\n",
        "splitfolders.ratio(dataset,\n",
        "                   output='/content/drive/MyDrive/Breast Cancer Dataset/data',\n",
        "                   seed=1337,\n",
        "                   ratio=(.8, .2),\n",
        "                   group_prefix=None, move=False)"
      ],
      "metadata": {
        "colab": {
          "base_uri": "https://localhost:8080/"
        },
        "id": "FdALAZ0dFiVi",
        "outputId": "bd61c418-d39d-4b04-9fa5-fc50dd2f8a5b"
      },
      "execution_count": 15,
      "outputs": [
        {
          "output_type": "stream",
          "name": "stderr",
          "text": [
            "Copying files: 481 files [00:16, 28.57 files/s]\n"
          ]
        }
      ]
    },
    {
      "cell_type": "markdown",
      "source": [
        "# Split Data"
      ],
      "metadata": {
        "id": "E_u0lwGbJn3j"
      }
    },
    {
      "cell_type": "code",
      "source": [
        "import os\n",
        "\n",
        "base_dir = '/content/drive/MyDrive/Breast Cancer Dataset/data'\n",
        "\n",
        "train_dir = os.path.join(base_dir, 'train')\n",
        "os.chdir(base_dir)\n",
        "os.rename(\"val\",\"test\")\n",
        "test_dir = os.path.join(base_dir, 'test')\n",
        "\n",
        "train_benign = '/content/drive/MyDrive/Breast Cancer Dataset/data/train/benign'\n",
        "train_malignant = '/content/drive/MyDrive/Breast Cancer Dataset/data/train/malignant'\n",
        "train_normal = '/content/drive/MyDrive/Breast Cancer Dataset/data/train/normal'\n",
        "\n",
        "test_benign = '/content/drive/MyDrive/Breast Cancer Dataset/data/test/benign'\n",
        "test_malignant = '/content/drive/MyDrive/Breast Cancer Dataset/data/test/malignant'\n",
        "test_normal = '/content/drive/MyDrive/Breast Cancer Dataset/data/test/normal'\n",
        "\n",
        "print('total citra train:', len(os.listdir(train_benign))+\n",
        "                            len(os.listdir(train_malignant))+\n",
        "                            len(os.listdir(train_normal))\n",
        "                            )\n",
        "print('total citra test:', len(os.listdir(test_benign))+\n",
        "                           len(os.listdir(test_malignant))+\n",
        "                           len(os.listdir(test_normal)))"
      ],
      "metadata": {
        "colab": {
          "base_uri": "https://localhost:8080/"
        },
        "id": "YNjnV96mFlPv",
        "outputId": "349bc451-aedb-4534-9ec6-f07f8f3bdd44"
      },
      "execution_count": 16,
      "outputs": [
        {
          "output_type": "stream",
          "name": "stdout",
          "text": [
            "total citra train: 384\n",
            "total citra test: 97\n"
          ]
        }
      ]
    }
  ]
}