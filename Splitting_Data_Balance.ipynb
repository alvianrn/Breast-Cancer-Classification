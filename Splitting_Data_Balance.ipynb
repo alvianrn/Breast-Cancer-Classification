{
  "nbformat": 4,
  "nbformat_minor": 0,
  "metadata": {
    "colab": {
      "provenance": []
    },
    "kernelspec": {
      "name": "python3",
      "display_name": "Python 3"
    },
    "language_info": {
      "name": "python"
    }
  },
  "cells": [
    {
      "cell_type": "markdown",
      "source": [
        "# Import Library"
      ],
      "metadata": {
        "id": "PkKKf_7vJiPH"
      }
    },
    {
      "cell_type": "markdown",
      "source": [
        "Menginstal library dan modul yang akan digunakan"
      ],
      "metadata": {
        "id": "PHFJ9ukoSXda"
      }
    },
    {
      "cell_type": "code",
      "execution_count": 1,
      "metadata": {
        "id": "X7IMdW7CFPBO"
      },
      "outputs": [],
      "source": [
        "!pip install -q split-folders"
      ]
    },
    {
      "cell_type": "markdown",
      "source": [
        "Menghubungkan Google Drive dengan Google Colab"
      ],
      "metadata": {
        "id": "Kf5S5Fo9SaDa"
      }
    },
    {
      "cell_type": "code",
      "source": [
        "from google.colab import drive\n",
        "drive.mount('/content/drive')"
      ],
      "metadata": {
        "colab": {
          "base_uri": "https://localhost:8080/"
        },
        "id": "l9uxPscqFdqW",
        "outputId": "6af9eb8f-483a-498b-b3af-a9c8bbba44cb"
      },
      "execution_count": 2,
      "outputs": [
        {
          "output_type": "stream",
          "name": "stdout",
          "text": [
            "Mounted at /content/drive\n"
          ]
        }
      ]
    },
    {
      "cell_type": "markdown",
      "source": [
        "# Import Data from Drive"
      ],
      "metadata": {
        "id": "omiUFRG3Jkhe"
      }
    },
    {
      "cell_type": "markdown",
      "source": [
        "Mengakses dataset dari Google Drive"
      ],
      "metadata": {
        "id": "bmOi7qkpSd5P"
      }
    },
    {
      "cell_type": "code",
      "source": [
        "dataset = '/content/drive/MyDrive/Dataset/Balance Breast Cancer Dataset'"
      ],
      "metadata": {
        "id": "9e8Ig5gbFfzk"
      },
      "execution_count": 3,
      "outputs": []
    },
    {
      "cell_type": "markdown",
      "source": [
        "Melakukan pembagian data dengan ratio 90% (train) dan 10% (test)"
      ],
      "metadata": {
        "id": "WjdhmXr-SjKg"
      }
    },
    {
      "cell_type": "code",
      "source": [
        "#impor package split-folders\n",
        "import splitfolders\n",
        "\n",
        "#Membagi data\n",
        "splitfolders.ratio(dataset,\n",
        "                   output='/content/drive/MyDrive/Dataset/Balance Breast Cancer Dataset/data',\n",
        "                   seed=1337,\n",
        "                   ratio=(.9, .1),\n",
        "                   group_prefix=None, move=False)"
      ],
      "metadata": {
        "colab": {
          "base_uri": "https://localhost:8080/"
        },
        "id": "FdALAZ0dFiVi",
        "outputId": "b26d1841-a604-4089-b7f3-f4230730ff68"
      },
      "execution_count": 5,
      "outputs": [
        {
          "output_type": "stream",
          "name": "stderr",
          "text": [
            "\n",
            "Copying files: 0 files [00:00, ? files/s]\u001b[A\n",
            "Copying files: 4 files [00:00, 35.75 files/s]\u001b[A\n",
            "Copying files: 11 files [00:00, 50.33 files/s]\u001b[A\n",
            "Copying files: 17 files [00:00, 50.70 files/s]\u001b[A\n",
            "Copying files: 23 files [00:00, 52.87 files/s]\u001b[A\n",
            "Copying files: 29 files [00:00, 49.30 files/s]\u001b[A\n",
            "Copying files: 35 files [00:00, 51.33 files/s]\u001b[A\n",
            "Copying files: 41 files [00:00, 50.82 files/s]\u001b[A\n",
            "Copying files: 47 files [00:00, 52.47 files/s]\u001b[A\n",
            "Copying files: 53 files [00:01, 51.96 files/s]\u001b[A\n",
            "Copying files: 60 files [00:01, 55.00 files/s]\u001b[A\n",
            "Copying files: 66 files [00:01, 52.97 files/s]\u001b[A\n",
            "Copying files: 73 files [00:01, 55.88 files/s]\u001b[A\n",
            "Copying files: 79 files [00:01, 54.36 files/s]\u001b[A\n",
            "Copying files: 85 files [00:01, 51.68 files/s]\u001b[A\n",
            "Copying files: 91 files [00:01, 46.10 files/s]\u001b[A\n",
            "Copying files: 97 files [00:01, 48.92 files/s]\u001b[A\n",
            "Copying files: 103 files [00:02, 50.06 files/s]\u001b[A\n",
            "Copying files: 109 files [00:02, 50.97 files/s]\u001b[A\n",
            "Copying files: 115 files [00:02, 51.94 files/s]\u001b[A\n",
            "Copying files: 121 files [00:02, 53.04 files/s]\u001b[A\n",
            "Copying files: 127 files [00:02, 52.30 files/s]\u001b[A\n",
            "Copying files: 133 files [00:02, 51.31 files/s]\u001b[A\n",
            "Copying files: 139 files [00:05,  7.12 files/s]\u001b[A\n",
            "Copying files: 144 files [00:05,  9.07 files/s]\u001b[A\n",
            "Copying files: 150 files [00:05, 12.28 files/s]\u001b[A\n",
            "Copying files: 155 files [00:05, 15.39 files/s]\u001b[A\n",
            "Copying files: 160 files [00:05, 18.88 files/s]\u001b[A\n",
            "Copying files: 166 files [00:05, 23.88 files/s]\u001b[A\n",
            "Copying files: 171 files [00:05, 27.20 files/s]\u001b[A\n",
            "Copying files: 70 files [00:19, 47.75 files/s]\n",
            "Copying files: 181 files [00:06, 26.05 files/s]\u001b[A\n",
            "Copying files: 187 files [00:06, 31.44 files/s]\u001b[A\n",
            "Copying files: 192 files [00:06, 33.89 files/s]\u001b[A\n",
            "Copying files: 197 files [00:06, 36.62 files/s]\u001b[A\n",
            "Copying files: 202 files [00:06, 36.12 files/s]\u001b[A\n",
            "Copying files: 207 files [00:07, 23.36 files/s]\u001b[A\n",
            "Copying files: 212 files [00:07, 27.10 files/s]\u001b[A\n",
            "Copying files: 218 files [00:07, 32.68 files/s]\u001b[A\n",
            "Copying files: 223 files [00:07, 35.50 files/s]\u001b[A\n",
            "Copying files: 230 files [00:07, 41.50 files/s]\u001b[A\n",
            "Copying files: 235 files [00:08, 21.82 files/s]\u001b[A\n",
            "Copying files: 242 files [00:08, 28.16 files/s]\u001b[A\n",
            "Copying files: 247 files [00:08, 22.40 files/s]\u001b[A\n",
            "Copying files: 251 files [00:08, 23.12 files/s]\u001b[A\n",
            "Copying files: 255 files [00:08, 25.76 files/s]\u001b[A\n",
            "Copying files: 259 files [00:08, 27.03 files/s]\u001b[A\n",
            "Copying files: 265 files [00:09, 33.62 files/s]\u001b[A\n",
            "Copying files: 270 files [00:09, 35.95 files/s]\u001b[A\n",
            "Copying files: 275 files [00:09, 37.43 files/s]\u001b[A\n",
            "Copying files: 280 files [00:09, 39.66 files/s]\u001b[A\n",
            "Copying files: 285 files [00:09, 36.05 files/s]\u001b[A\n",
            "Copying files: 289 files [00:09, 35.31 files/s]\u001b[A\n",
            "Copying files: 293 files [00:09, 35.20 files/s]\u001b[A\n",
            "Copying files: 298 files [00:09, 37.58 files/s]\u001b[A\n",
            "Copying files: 303 files [00:09, 40.11 files/s]\u001b[A\n",
            "Copying files: 308 files [00:10, 40.03 files/s]\u001b[A\n",
            "Copying files: 314 files [00:10, 41.11 files/s]\u001b[A\n",
            "Copying files: 319 files [00:12,  7.92 files/s]\u001b[A\n",
            "Copying files: 324 files [00:12, 10.45 files/s]\u001b[A\n",
            "Copying files: 328 files [00:12, 12.17 files/s]\u001b[A\n",
            "Copying files: 334 files [00:12, 16.64 files/s]\u001b[A\n",
            "Copying files: 338 files [00:12, 14.77 files/s]\u001b[A\n",
            "Copying files: 343 files [00:12, 18.88 files/s]\u001b[A\n",
            "Copying files: 348 files [00:13, 23.07 files/s]\u001b[A\n",
            "Copying files: 354 files [00:13, 28.82 files/s]\u001b[A\n",
            "Copying files: 359 files [00:13, 31.70 files/s]\u001b[A\n",
            "Copying files: 364 files [00:13, 35.38 files/s]\u001b[A\n",
            "Copying files: 370 files [00:13, 40.38 files/s]\u001b[A\n",
            "Copying files: 375 files [00:13, 39.48 files/s]\u001b[A\n",
            "Copying files: 381 files [00:13, 43.15 files/s]\u001b[A\n",
            "Copying files: 386 files [00:13, 42.81 files/s]\u001b[A\n",
            "Copying files: 391 files [00:13, 44.54 files/s]\u001b[A\n",
            "Copying files: 396 files [00:14, 44.33 files/s]\u001b[A\n",
            "Copying files: 402 files [00:14, 44.68 files/s]\u001b[A\n",
            "Copying files: 408 files [00:14, 45.08 files/s]\u001b[A\n",
            "Copying files: 414 files [00:14, 47.84 files/s]\u001b[A\n",
            "Copying files: 419 files [00:14, 44.17 files/s]\u001b[A\n",
            "Copying files: 424 files [00:14, 43.16 files/s]\u001b[A\n",
            "Copying files: 430 files [00:14, 47.20 files/s]\u001b[A\n",
            "Copying files: 435 files [00:14, 45.68 files/s]\u001b[A\n",
            "Copying files: 441 files [00:15, 48.15 files/s]\u001b[A\n",
            "Copying files: 446 files [00:15, 47.33 files/s]\u001b[A\n",
            "Copying files: 451 files [00:15, 47.77 files/s]\u001b[A\n",
            "Copying files: 456 files [00:15, 47.87 files/s]\u001b[A\n",
            "Copying files: 462 files [00:15, 50.07 files/s]\u001b[A\n",
            "Copying files: 468 files [00:15, 46.41 files/s]\u001b[A\n",
            "Copying files: 474 files [00:15, 48.91 files/s]\u001b[A\n",
            "Copying files: 480 files [00:15, 30.23 files/s]\n"
          ]
        }
      ]
    },
    {
      "cell_type": "markdown",
      "source": [
        "# Split Data"
      ],
      "metadata": {
        "id": "E_u0lwGbJn3j"
      }
    },
    {
      "cell_type": "code",
      "source": [
        "import os\n",
        "\n",
        "base_dir = '/content/drive/MyDrive/Dataset/Balance Breast Cancer Dataset/data'\n",
        "\n",
        "train_dir = os.path.join(base_dir, 'train')\n",
        "os.chdir(base_dir)\n",
        "os.rename(\"val\",\"test\")\n",
        "test_dir = os.path.join(base_dir, 'test')\n",
        "\n",
        "train_benign = '/content/drive/MyDrive/Dataset/Balance Breast Cancer Dataset/data/train/benign'\n",
        "train_malignant = '/content/drive/MyDrive/Dataset/Balance Breast Cancer Dataset/data/train/malignant'\n",
        "train_normal = '/content/drive/MyDrive/Dataset/Balance Breast Cancer Dataset/data/train/normal'\n",
        "\n",
        "test_benign = '/content/drive/MyDrive/Dataset/Balance Breast Cancer Dataset/data/test/benign'\n",
        "test_malignant = '/content/drive/MyDrive/Dataset/Balance Breast Cancer Dataset/data/test/malignant'\n",
        "test_normal = '/content/drive/MyDrive/Dataset/Balance Breast Cancer Dataset/data/test/normal'\n",
        "\n",
        "print('total citra train:', len(os.listdir(train_benign))+\n",
        "                            len(os.listdir(train_malignant))+\n",
        "                            len(os.listdir(train_normal))\n",
        "                            )\n",
        "print('total citra test:', len(os.listdir(test_benign))+\n",
        "                           len(os.listdir(test_malignant))+\n",
        "                           len(os.listdir(test_normal)))"
      ],
      "metadata": {
        "colab": {
          "base_uri": "https://localhost:8080/"
        },
        "id": "YNjnV96mFlPv",
        "outputId": "24c37607-cc91-4955-e6b2-dfb974f5fe7e"
      },
      "execution_count": 8,
      "outputs": [
        {
          "output_type": "stream",
          "name": "stdout",
          "text": [
            "total citra train: 431\n",
            "total citra test: 49\n"
          ]
        }
      ]
    },
    {
      "cell_type": "markdown",
      "source": [
        "Hasil pembagian data citra yang digunakan untuk train sebanyak 431 citra dan citra yang digunakan untuk test sebanyak 49 citra. Data ini digunakan untuk analisis data balance"
      ],
      "metadata": {
        "id": "TxuPQ97wSreR"
      }
    }
  ]
}